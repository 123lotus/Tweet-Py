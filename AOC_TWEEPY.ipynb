{
  "nbformat": 4,
  "nbformat_minor": 0,
  "metadata": {
    "colab": {
      "name": "AOC-TWEEPY.ipynb",
      "version": "0.3.2",
      "provenance": [],
      "collapsed_sections": [],
      "include_colab_link": true
    },
    "kernelspec": {
      "name": "python3",
      "display_name": "Python 3"
    }
  },
  "cells": [
    {
      "cell_type": "markdown",
      "metadata": {
        "id": "view-in-github",
        "colab_type": "text"
      },
      "source": [
        "<a href=\"https://colab.research.google.com/github/123lotus/Tweet-Py/blob/master/AOC_TWEEPY.ipynb\" target=\"_parent\"><img src=\"https://colab.research.google.com/assets/colab-badge.svg\" alt=\"Open In Colab\"/></a>"
      ]
    },
    {
      "metadata": {
        "id": "66xpPoOxYFl7",
        "colab_type": "code",
        "outputId": "be411048-0474-4159-e66d-5c360d206fa9",
        "colab": {
          "base_uri": "https://localhost:8080/",
          "height": 51
        }
      },
      "cell_type": "code",
      "source": [
        "import tweepy\n",
        "from tweepy.streaming import StreamListener\n",
        "from tweepy import OAuthHandler\n",
        "from tweepy import Stream\n",
        "\n",
        "access_token = \"1118989844598808576-ESniByOEonkRNwVLBnfRlTBmeor9u0\"\n",
        "access_token_secret = \"VK9j34fzTCWeIPKV6DNgaIQl8H4HL73BejpnvjMfiSbxS\"\n",
        "consumer_key = \"BILhXNgSKDTOOTaJA2rrx6e86\"\n",
        "consumer_secret = \"YAn1Q69OEVgiTil1NuFOWfRiyzNymBUhiCoSrPsAWiNG0MHYoU\"\n",
        "\n",
        "auth = tweepy.auth.OAuthHandler(consumer_key, consumer_secret)\n",
        "auth.set_access_token(access_token, access_token_secret)\n",
        "\n",
        "api = tweepy.API(auth)\n",
        "\n",
        "#fetch recent 10 tweets containing words aoc, alexandria ocasio cortez, congresswoman aoc\n",
        "fetched_tweets = api.search(q=['AOC','alexandria ocasio cortez','congresswoman cortez'], result_type='recent', lang='en', count=10)\n",
        "print (\"Number of tweets:\"),len(fetched_tweets)"
      ],
      "execution_count": 0,
      "outputs": [
        {
          "output_type": "stream",
          "text": [
            "Number of tweets:\n"
          ],
          "name": "stdout"
        },
        {
          "output_type": "execute_result",
          "data": {
            "text/plain": [
              "(None, 8)"
            ]
          },
          "metadata": {
            "tags": []
          },
          "execution_count": 4
        }
      ]
    },
    {
      "metadata": {
        "id": "jRKw8_E8YOJ1",
        "colab_type": "code",
        "outputId": "6b081d42-de88-4d11-cc92-f0efed5e8d1e",
        "colab": {
          "base_uri": "https://localhost:8080/",
          "height": 459
        }
      },
      "cell_type": "code",
      "source": [
        "# print the tweet text\n",
        "for tweet in fetched_tweets:\n",
        "  print ('Tweet ID: ',tweet.id)\n",
        "  print ('Tweet Text: ', tweet.text, '\\n')"
      ],
      "execution_count": 0,
      "outputs": [
        {
          "output_type": "stream",
          "text": [
            "Tweet ID:  1121210041481211905\n",
            "Tweet Text:  @anticastro76 @LeKevbo @AOC @knockdownmovie @RealCandaceO Do you not understand English? I don't think I had any mi… https://t.co/mBhamy8Vl5 \n",
            "\n",
            "Tweet ID:  1121192085137383429\n",
            "Tweet Text:  RT @JohnJayCollege: Congresswoman @AOC Captivates the Audience at #JohnJayCollege: https://t.co/IGOaWbzZHH #FierceAdvocates #MyJohnJay http… \n",
            "\n",
            "Tweet ID:  1121191080349831168\n",
            "Tweet Text:  RT @JohnJayCollege: Congresswoman @AOC Captivates the Audience at #JohnJayCollege: https://t.co/IGOaWbzZHH #FierceAdvocates #MyJohnJay http… \n",
            "\n",
            "Tweet ID:  1121189843369963520\n",
            "Tweet Text:  RT @JohnJayCollege: Congresswoman @AOC Captivates the Audience at #JohnJayCollege: https://t.co/IGOaWbzZHH #FierceAdvocates #MyJohnJay http… \n",
            "\n",
            "Tweet ID:  1121163659521216514\n",
            "Tweet Text:  RT @JohnJayCollege: Congresswoman @AOC Captivates the Audience at #JohnJayCollege: https://t.co/IGOaWbzZHH #FierceAdvocates #MyJohnJay http… \n",
            "\n",
            "Tweet ID:  1121161009329106950\n",
            "Tweet Text:  Congresswoman @AOC Captivates the Audience at #JohnJayCollege: https://t.co/IGOaWbzZHH #FierceAdvocates #MyJohnJay https://t.co/vOYAeT3EYs \n",
            "\n",
            "Tweet ID:  1121117421861924864\n",
            "Tweet Text:  @TheDesiDude1 @AmyMek But don’t worry US Congresswoman Alexandria Ocasio Cortez aka @AOC says the world will end in 12 years \n",
            "\n",
            "Tweet ID:  1120979979989344256\n",
            "Tweet Text:  RT @TheRickyDavila: Trash Jr decided to lead a chant of “AOC sucks” at his daddy’s KKK hate rally yesterday.\n",
            "\n",
            "Congresswoman Alexandria Ocas… \n",
            "\n"
          ],
          "name": "stdout"
        }
      ]
    }
  ]
}